{
 "cells": [
  {
   "cell_type": "markdown",
   "metadata": {},
   "source": [
    "# Advance lane finding\n",
    "In the last two notebooks (4 & 5) we have looked at\n",
    "\n",
    "* camera calibration and correcting distortion\n",
    "* perspective transform\n",
    "* gradient threshold\n",
    "* color threshold\n",
    "\n",
    "In this notebook, we go through a pipeline using above technique to detect lane line. The pipeline has following steps\n",
    "\n",
    "1. camera calibration\n",
    "2. distortion correction\n",
    "3. color & gradient threshold: filter useful information\n",
    "4. perspective transform: view image in a bird's eye view perspective\n",
    "5. find the lines using **sliding-window-search**"
   ]
  }
 ],
 "metadata": {
  "kernelspec": {
   "display_name": "Python 3",
   "language": "python",
   "name": "python3"
  },
  "language_info": {
   "codemirror_mode": {
    "name": "ipython",
    "version": 3
   },
   "file_extension": ".py",
   "mimetype": "text/x-python",
   "name": "python",
   "nbconvert_exporter": "python",
   "pygments_lexer": "ipython3",
   "version": "3.6.1"
  }
 },
 "nbformat": 4,
 "nbformat_minor": 2
}
