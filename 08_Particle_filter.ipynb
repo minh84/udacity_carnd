{
 "cells": [
  {
   "cell_type": "markdown",
   "metadata": {},
   "source": [
    "# Particle Filter\n",
    "In this note we look at how to implement a Particle-Filter"
   ]
  },
  {
   "cell_type": "code",
   "execution_count": 9,
   "metadata": {
    "collapsed": true
   },
   "outputs": [],
   "source": [
    "import numpy as np\n",
    "import matplotlib.pyplot as plt\n",
    "%matplotlib inline"
   ]
  },
  {
   "cell_type": "code",
   "execution_count": 47,
   "metadata": {
    "collapsed": true
   },
   "outputs": [],
   "source": [
    "sense_x=6.613\n",
    "sense_y=1.9009\n",
    "sense_theta=-0.0022\n",
    "\n",
    "state = (sense_x, sense_y, sense_theta)"
   ]
  },
  {
   "cell_type": "code",
   "execution_count": 48,
   "metadata": {
    "collapsed": true
   },
   "outputs": [],
   "source": [
    "obs = [(0,0)]*11\n",
    "obs[0]=(2.1145,5.3793)\n",
    "obs[1]=(11.0717,-6.3177)\n",
    "obs[2]=(-19.7459,-2.0209)\n",
    "obs[3]=(1.8567,-23.4244)\n",
    "obs[4]=(13.4352,-21.8838)\n",
    "obs[5]=(29.945,12.6757)\n",
    "obs[6]=(-13.5573,-36.7337)\n",
    "obs[7]=(30.2855,-30.9878)\n",
    "obs[8]=(-36.034,-25.5875)\n",
    "obs[9]=(22.8732,-41.5321)\n",
    "obs[10]=(-45.9188,-14.7806)\n",
    "obs = np.array(obs)"
   ]
  },
  {
   "cell_type": "code",
   "execution_count": 19,
   "metadata": {
    "collapsed": true
   },
   "outputs": [],
   "source": [
    "lm = [(0,0)] * 42\n",
    "lm[0]=(92.064,-34.777)\n",
    "lm[1]=(61.109,-47.132)\n",
    "lm[2]=(17.42,-4.5993)\n",
    "lm[3]=(-7.1285,-34.54)\n",
    "lm[4]=(232.32,32.032)\n",
    "lm[5]=(177.43,28.083)\n",
    "lm[6]=(286.89,18.159)\n",
    "lm[7]=(274.37,31.197)\n",
    "lm[8]=(47.484,-36.786)\n",
    "lm[9]=(69.2,-78.217)\n",
    "lm[10]=(124.61,24.277)\n",
    "lm[11]=(36.203,14.827)\n",
    "lm[12]=(-39.786,-12.615)\n",
    "lm[13]=(-38.025,-99.976)\n",
    "lm[14]=(267.33,-14.272)\n",
    "lm[15]=(28.898,-39.754)\n",
    "lm[16]=(-29.836,-23.277)\n",
    "lm[17]=(255.67,9.8137)\n",
    "lm[18]=(13.452,-72.827)\n",
    "lm[19]=(102.04,5.1777)\n",
    "lm[20]=(62.838,1.9057)\n",
    "lm[21]=(-14.947,-61.919)\n",
    "lm[22]=(15.162,-97.037)\n",
    "lm[23]=(36.626,-28.898)\n",
    "lm[24]=(172.16,-15.217)\n",
    "lm[25]=(136.95,-14.13)\n",
    "lm[26]=(-41.714,-61.328)\n",
    "lm[27]=(39.556,-47.361)\n",
    "lm[28]=(195.65,8.6677)\n",
    "lm[29]=(278,13.181)\n",
    "lm[30]=(151.03,8.9127)\n",
    "lm[31]=(8.7638,7.5647)\n",
    "lm[32]=(83.006,20.959)\n",
    "lm[33]=(205.39,29.686)\n",
    "lm[34]=(264.51,24.454)\n",
    "lm[35]=(214.54,-7.8711)\n",
    "lm[36]=(53.27,-55.233)\n",
    "lm[37]=(20.139,-20.15)\n",
    "lm[38]=(8.2018,-20.97)\n",
    "lm[39]=(-13.641,-0.098341)\n",
    "lm[40]=(278.92,21.918)\n",
    "lm[41]=(170.62,28.733)\n",
    "lm = np.array(lm)"
   ]
  },
  {
   "cell_type": "code",
   "execution_count": 7,
   "metadata": {
    "collapsed": true
   },
   "outputs": [],
   "source": [
    "v=3.9611\n",
    "yawd=3.0937"
   ]
  },
  {
   "cell_type": "code",
   "execution_count": 44,
   "metadata": {
    "collapsed": true
   },
   "outputs": [],
   "source": [
    "def init_particles(state, sigma_pos, N):\n",
    "    particles = []\n",
    "    noise = np.random.normal(0.0,1.0, size=(N,3))\n",
    "    for i in range(N):\n",
    "        new_state = np.copy(state)\n",
    "        for j in range(3):\n",
    "            new_state[j] += noise[i, j] * sigma_pos[j]\n",
    "        particles.append(new_state)\n",
    "    return np.array(particles)\n",
    "\n",
    "def dist(particle, lm):\n",
    "    return np.sqrt((particle[0] - lm[0])**2 + (particle[1] - lm[1])**2)\n",
    "\n",
    "def landmark_in_range(sensor_range, particle, landmarks):\n",
    "    retval = []\n",
    "    for lm in landmarks:\n",
    "        if (dist(particle, lm) < sensor_range):\n",
    "            retval.append(lm)\n",
    "    return np.array(retval)\n",
    "\n",
    "def obs_in_map_coord(obs, particle):\n",
    "    retval = []\n",
    "    cos_theta = np.cos(particle[2])\n",
    "    sin_theta = np.sin(particle[2])\n",
    "    \n",
    "    for ob in obs:\n",
    "        x = particle[0] + cos_theta * ob[0] - sin_theta * ob[1]\n",
    "        y = particle[1] + sin_theta * ob[0] + cos_theta * ob[1]\n",
    "        retval.append((x,y))\n",
    "    return np.array(retval)\n",
    "\n",
    "def nearest_neighbor(landmarks, one_obs):\n",
    "    '''\n",
    "    find the landmark in landmarks that closest to one_obs\n",
    "    '''\n",
    "    best_dist = float('inf')\n",
    "    best_lm = None\n",
    "    for lm in landmarks:\n",
    "        d = dist(one_obs, lm) \n",
    "        if d < best_dist:\n",
    "            best_dist = d\n",
    "            best_lm = lm\n",
    "    return best_lm\n",
    "\n",
    "def compute_weight(predict_landmarks, observations, sigma_obs):\n",
    "    w = 1.0\n",
    "    cst = 1.0 / (2.0 * np.pi * sigma_obs[0] * sigma_obs[1])\n",
    "    logCst = np.log(2.0 * np.pi * sigma_obs[0] * sigma_obs[1])\n",
    "    logW = 0.\n",
    "    for ob in observations:\n",
    "        closest_lm = nearest_neighbor(predict_landmarks, ob)\n",
    "        exponent = ((ob[0]-closest_lm[0])**2)/(2*sigma_obs[0]**2) + ((ob[1]-closest_lm[1])**2)/(2*sigma_obs[1]**2)\n",
    "        prob = cst * np.exp(-exponent)\n",
    "        logW -= (logCst + exponent)\n",
    "        w *= prob\n",
    "    return w, logW\n",
    "\n",
    "def particles_weights(particles, obs, landmarks, sigma_obs=[0.3,0.3], sensor_range=50.):\n",
    "    weights = []\n",
    "    logweights = []\n",
    "    for p in particles:\n",
    "        lm_p = landmark_in_range(sensor_range, p, landmarks)\n",
    "        obs_p = obs_in_map_coord(obs, p)\n",
    "        \n",
    "        w, logw = compute_weight(lm_p, obs_p, sigma_obs)\n",
    "        weights.append(w)\n",
    "        logweights.append(logw)\n",
    "    return np.array(weights), np.array(logweights)"
   ]
  },
  {
   "cell_type": "code",
   "execution_count": 35,
   "metadata": {},
   "outputs": [
    {
     "data": {
      "image/png": "[encoded data removed]",
      "text/plain": [
       "<matplotlib.figure.Figure at 0x7fdd2a4d3940>"
      ]
     },
     "metadata": {},
     "output_type": "display_data"
    }
   ],
   "source": [
    "sigma_pos = [0.3, 0.3, 0.01]\n",
    "particles = init_particles(state, sigma_pos, 10)\n",
    "_ = plt.scatter(state[0], state[1])\n",
    "#_ = plt.scatter(particles[:,0], particles[:,1])\n",
    "obs_map = obs_in_map_coord(obs, state)\n",
    "_ = plt.scatter(obs_map[:,0], obs_map[:,1])"
   ]
  },
  {
   "cell_type": "code",
   "execution_count": 37,
   "metadata": {},
   "outputs": [
    {
     "data": {
      "image/png": "[encoded data removed]",
      "text/plain": [
       "<matplotlib.figure.Figure at 0x7fdd2a597080>"
      ]
     },
     "metadata": {},
     "output_type": "display_data"
    }
   ],
   "source": [
    "obs_p0 = obs_in_map_coord(obs, particles[0])\n",
    "lm_p0 = landmark_in_range(50., particles[0], lm)\n",
    "_ = plt.scatter(particles[0,0], particles[0, 1])\n",
    "_ = plt.scatter(obs_p0[:,0], obs_p0[:,1])\n",
    "_ = plt.scatter(lm_p0[:,0], lm_p0[:, 1])"
   ]
  },
  {
   "cell_type": "code",
   "execution_count": 43,
   "metadata": {},
   "outputs": [
    {
     "name": "stdout",
     "output_type": "stream",
     "text": [
      "-59.5395598335 -59.5395598335\n"
     ]
    }
   ],
   "source": [
    "sigma_obs = [0.3, 0.3]\n",
    "w, logw = compute_weight(lm_p0, obs_p0, sigma_obs)\n",
    "print(np.log(w), logw)"
   ]
  },
  {
   "cell_type": "code",
   "execution_count": 45,
   "metadata": {},
   "outputs": [
    {
     "name": "stdout",
     "output_type": "stream",
     "text": [
      "[1.387706777424622e-26, 1.5854761446380213e-13, 0.00035674916577582282, 1.8054313696237609e-05, 3.0405455454991191e-18, 5.914240973807716e-29, 5.8569567001560459e-41, 5.0587200062680687e-31, 5.5755870164540958e-23, 7.9712413268352106e-19]\n",
      "[  3.70249171e-23   4.23015322e-10   9.51829919e-01   4.81700803e-02\n",
      "   8.11237278e-15   1.57795786e-25   1.56267405e-37   1.34969932e-27\n",
      "   1.48760279e-19   2.12677890e-15]\n"
     ]
    }
   ],
   "source": [
    "weights, logweights = particles_weights(particles, obs, lm)\n",
    "print(weights)\n",
    "print(weights/np.sum(weights))"
   ]
  },
  {
   "cell_type": "code",
   "execution_count": 49,
   "metadata": {
    "collapsed": true
   },
   "outputs": [],
   "source": [
    "p = [(0,0,0)]*10\n",
    "p[0]=(6.60934,1.92143,-0.00186731)\n",
    "p[1]=(6.5804,1.86864,0.00524836)\n",
    "p[2]=(6.61401,1.91478,0.0190468)\n",
    "p[3]=(6.5972,1.90692,0.00151721)\n",
    "p[4]=(6.64363,1.89706,-0.00907155)\n",
    "p[5]=(6.6365,1.8908,0.0108842)\n",
    "p[6]=(6.58492,1.87772,-0.0223529)\n",
    "p[7]=(6.53283,1.88525,-0.00169632)\n",
    "p[8]=(6.58616,1.89536,-0.00293738)\n",
    "p[9]=(6.61261,1.88052,0.00638246)\n",
    "p = np.array(p)"
   ]
  },
  {
   "cell_type": "code",
   "execution_count": 51,
   "metadata": {},
   "outputs": [
    {
     "name": "stdout",
     "output_type": "stream",
     "text": [
      "[0.012223463390030772, 3.7972636201056574e-06, 2.7558510021950486e-22, 0.00071368808560001403, 0.011541821427127244, 3.0455908934645836e-12, 3.0348858017804798e-10, 0.04253607008121825, 0.026406943343693853, 1.6373189336144345e-07]\n",
      "[  1.22234634e-02   3.79726362e-06   2.75585100e-22   7.13688086e-04\n",
      "   1.15418214e-02   3.04559089e-12   3.03488580e-10   4.25360701e-02\n",
      "   2.64069433e-02   1.63731893e-07]\n",
      "[  1.30835851e-01   4.06446358e-05   2.94977046e-21   7.63907783e-03\n",
      "   1.23539784e-01   3.25989832e-11   3.24843994e-09   4.55291824e-01\n",
      "   2.82651062e-01   1.75253126e-06]\n"
     ]
    }
   ],
   "source": [
    "weights, logweights = particles_weights(p, obs, lm)\n",
    "print(weights)\n",
    "print(np.exp(logweights))\n",
    "print(weights/np.sum(weights))"
   ]
  }
 ],
 "metadata": {
  "kernelspec": {
   "display_name": "Python 3",
   "language": "python",
   "name": "python3"
  },
  "language_info": {
   "codemirror_mode": {
    "name": "ipython",
    "version": 3
   },
   "file_extension": ".py",
   "mimetype": "text/x-python",
   "name": "python",
   "nbconvert_exporter": "python",
   "pygments_lexer": "ipython3",
   "version": "3.6.1"
  }
 },
 "nbformat": 4,
 "nbformat_minor": 2
}
