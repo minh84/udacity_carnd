{
 "cells": [
  {
   "cell_type": "markdown",
   "metadata": {},
   "source": [
    "# Vehicle Detection and Tracking\n",
    "In this project, our goal is to implement a pipeline to identify vehicles in a video from a front-facing camera on a car.\n",
    "\n",
    "The pipeline is broken into 3 steps\n",
    "* Build a classifier: to decide whether a square image is a car or not\n",
    "* Sliding windows technique to search for vehicles in images\n",
    "* Vehicle tracking: once we have a high confidence vehicle detection, we can eventually estimate where it will appear in each subsequent frame\n",
    "\n",
    "## Build a car/noncar classifer\n",
    "### Dataset\n",
    "We will use the following training dataset\n",
    "* Labeled data for [vehicle](https://s3.amazonaws.com/udacity-sdc/Vehicle_Tracking/vehicles.zip) and [non-vehicle](https://s3.amazonaws.com/udacity-sdc/Vehicle_Tracking/non-vehicles.zip)\n",
    "* Additional labeled data from [Udacity](https://github.com/udacity/self-driving-car/tree/master/annotations) which contains data from [CrowdAI](http://bit.ly/udacity-annoations-crowdai) and from [Autti](http://bit.ly/udacity-annotations-autti)"
   ]
  }
 ],
 "metadata": {
  "kernelspec": {
   "display_name": "Python 3",
   "language": "python",
   "name": "python3"
  },
  "language_info": {
   "codemirror_mode": {
    "name": "ipython",
    "version": 3
   },
   "file_extension": ".py",
   "mimetype": "text/x-python",
   "name": "python",
   "nbconvert_exporter": "python",
   "pygments_lexer": "ipython3",
   "version": "3.6.1"
  }
 },
 "nbformat": 4,
 "nbformat_minor": 2
}
