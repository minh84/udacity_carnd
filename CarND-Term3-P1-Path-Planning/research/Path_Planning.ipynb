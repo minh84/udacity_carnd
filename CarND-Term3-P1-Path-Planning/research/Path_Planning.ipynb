{
 "cells": [
  {
   "cell_type": "markdown",
   "metadata": {},
   "source": [
    "# Project Path Planning\n",
    "In this notebook we look at the first project on path-planning which covers following point\n",
    "* How the simulator works\n",
    "* Transform from Cartesian x,y coordinates to Frenet s,d coordinates\n",
    "* Path-planning using Finite-State-Machine and cost function\n",
    "\n",
    "## How the simulator works\n",
    "One can find the source code for the simulator from [here](https://github.com/udacity/self-driving-car-sim). To build the simulator for this project:\n",
    "* you need to switch to branch `term3_collection` (note that you need to install git-lfs and run `git lfs fetch; git lfs pull` to pull the asset files)\n",
    "* you select only PathPlanning scene to build (otherwise it won't work since the MenuScene for the PathPlanning is not provided).\n",
    "\n",
    "### Path planner\n",
    "The car-driving simulator for this project is implemented in `perfect_controller.cs` which works as following\n",
    "* it receives from the planner the list of next_x, next_y\n",
    "* at each step, it computes the next step from next_x, next_y and drive to this next point\n",
    "* each step from one point to the next one, it considers 0.02 second\n",
    "\n",
    "Note that, after consumed some `(next_x, next_y)`, it sends the following data to the planner:\n",
    "* x, y: Cartesian coordinates of current position\n",
    "* s, d: Frenet coordinates\n",
    "* yaw, speed: car's direction and speed\n",
    "* previous_path_x, previous_path_y: previous path data given to the Planner\n",
    "* end_path_s, end_path_d: previous path's end in Frenet (s,d)\n",
    "* sensor_fusion: a list of all other cars on the same side of the road\n",
    "\n",
    "One point to be careful, from the time the planner received the simulator data to the time the receiver received the next `(next_x, next_y)`, the simulator might consumed some point of previous planned paths (due to latency).\n",
    "\n",
    "In this part we try some simple experiments to verify our understanding of the simulator. The code is done in `experiments.cpp`.\n",
    "\n",
    "### Experiments - Naively following center lane\n",
    "The code to make the car drives in the center lane is implemented in the function `getTrajectoryKeepLaneNaive` which does\n",
    "* plan next points in Frenet with `d = 2 + 4* lane` and `s` advanced each time by a constant `s_inc`\n",
    "* the next points are converted back to Cartesian then sent to the simulator\n",
    "\n",
    "We notice the following\n",
    "* the car's speed is flipping from 33MPH to near 0MPH very often\n",
    "* the car breaks speed limit few times (when the road is curvy)\n",
    "* the car's trajectory is not smooth\n",
    "\n",
    "Let's investigate what causes this behavior. We log out the current state and planned steps in a csv file"
   ]
  },
  {
   "cell_type": "code",
   "execution_count": 2,
   "metadata": {},
   "outputs": [
    {
     "name": "stdout",
     "output_type": "stream",
     "text": [
      "The autoreload extension is already loaded. To reload it, use:\n",
      "  %reload_ext autoreload\n"
     ]
    },
    {
     "data": {
      "text/html": [
       "<div>\n",
       "<style>\n",
       "    .dataframe thead tr:only-child th {\n",
       "        text-align: right;\n",
       "    }\n",
       "\n",
       "    .dataframe thead th {\n",
       "        text-align: left;\n",
       "    }\n",
       "\n",
       "    .dataframe tbody tr th {\n",
       "        vertical-align: top;\n",
       "    }\n",
       "</style>\n",
       "<table border=\"1\" class=\"dataframe\">\n",
       "  <thead>\n",
       "    <tr style=\"text-align: right;\">\n",
       "      <th></th>\n",
       "      <th>step</th>\n",
       "      <th>tag</th>\n",
       "      <th>vals</th>\n",
       "    </tr>\n",
       "  </thead>\n",
       "  <tbody>\n",
       "    <tr>\n",
       "      <th>0</th>\n",
       "      <td>1</td>\n",
       "      <td>x</td>\n",
       "      <td>909.48</td>\n",
       "    </tr>\n",
       "    <tr>\n",
       "      <th>1</th>\n",
       "      <td>1</td>\n",
       "      <td>y</td>\n",
       "      <td>1128.67</td>\n",
       "    </tr>\n",
       "    <tr>\n",
       "      <th>2</th>\n",
       "      <td>1</td>\n",
       "      <td>s</td>\n",
       "      <td>124.834</td>\n",
       "    </tr>\n",
       "    <tr>\n",
       "      <th>3</th>\n",
       "      <td>1</td>\n",
       "      <td>d</td>\n",
       "      <td>6.165</td>\n",
       "    </tr>\n",
       "    <tr>\n",
       "      <th>4</th>\n",
       "      <td>1</td>\n",
       "      <td>yaw</td>\n",
       "      <td>0</td>\n",
       "    </tr>\n",
       "    <tr>\n",
       "      <th>5</th>\n",
       "      <td>1</td>\n",
       "      <td>speed</td>\n",
       "      <td>0</td>\n",
       "    </tr>\n",
       "    <tr>\n",
       "      <th>6</th>\n",
       "      <td>1</td>\n",
       "      <td>end_path_s</td>\n",
       "      <td>0</td>\n",
       "    </tr>\n",
       "    <tr>\n",
       "      <th>7</th>\n",
       "      <td>1</td>\n",
       "      <td>end_path_d</td>\n",
       "      <td>0</td>\n",
       "    </tr>\n",
       "    <tr>\n",
       "      <th>8</th>\n",
       "      <td>1</td>\n",
       "      <td>previous_path_x</td>\n",
       "      <td>[]</td>\n",
       "    </tr>\n",
       "    <tr>\n",
       "      <th>9</th>\n",
       "      <td>1</td>\n",
       "      <td>previous_path_y</td>\n",
       "      <td>[]</td>\n",
       "    </tr>\n",
       "    <tr>\n",
       "      <th>10</th>\n",
       "      <td>1</td>\n",
       "      <td>next_x_vals</td>\n",
       "      <td>[909.778, 910.078, 910.378, 910.678, 910.978, ...</td>\n",
       "    </tr>\n",
       "    <tr>\n",
       "      <th>11</th>\n",
       "      <td>1</td>\n",
       "      <td>next_y_vals</td>\n",
       "      <td>[1128.838, 1128.84, 1128.843, 1128.845, 1128.8...</td>\n",
       "    </tr>\n",
       "  </tbody>\n",
       "</table>\n",
       "</div>"
      ],
      "text/plain": [
       "    step              tag                                               vals\n",
       "0      1                x                                             909.48\n",
       "1      1                y                                            1128.67\n",
       "2      1                s                                            124.834\n",
       "3      1                d                                              6.165\n",
       "4      1              yaw                                                  0\n",
       "5      1            speed                                                  0\n",
       "6      1       end_path_s                                                  0\n",
       "7      1       end_path_d                                                  0\n",
       "8      1  previous_path_x                                                 []\n",
       "9      1  previous_path_y                                                 []\n",
       "10     1      next_x_vals  [909.778, 910.078, 910.378, 910.678, 910.978, ...\n",
       "11     1      next_y_vals  [1128.838, 1128.84, 1128.843, 1128.845, 1128.8..."
      ]
     },
     "execution_count": 2,
     "metadata": {},
     "output_type": "execute_result"
    }
   ],
   "source": [
    "import pandas as pd\n",
    "import numpy as np\n",
    "import matplotlib.pyplot as plt\n",
    "%matplotlib inline\n",
    "\n",
    "%load_ext autoreload\n",
    "%autoreload 2\n",
    "\n",
    "# load data\n",
    "drive_df = pd.read_csv('drive-logs/experiment1-drive.csv', delimiter=';', \n",
    "                 names=['step', 'tag', 'vals'], \n",
    "                 converters={'vals' : lambda x: eval(x)})\n",
    "\n",
    "sim_df = pd.read_csv('drive-logs/experiment1-sim.csv', names=['step', 'x', 'y'], delimiter=' ')\n",
    "\n",
    "high_way = pd.read_csv('../data/highway_map.csv', delimiter=' ',\n",
    "                       names=['x','y','s','dx','dy'])\n",
    "\n",
    "# print first step\n",
    "drive_df[drive_df.step==1]"
   ]
  },
  {
   "cell_type": "code",
   "execution_count": 3,
   "metadata": {},
   "outputs": [
    {
     "data": {
      "image/png": "[encoded data removed]",
      "text/plain": [
       "<matplotlib.figure.Figure at 0x10cc45e10>"
      ]
     },
     "metadata": {},
     "output_type": "display_data"
    }
   ],
   "source": [
    "# get speed view\n",
    "speed=drive_df[drive_df.tag=='speed']\n",
    "plt.scatter(speed.step, speed.vals)\n",
    "plt.title('Speed at each step')\n",
    "plt.xlabel('step')\n",
    "_=plt.ylabel('speed')"
   ]
  },
  {
   "cell_type": "markdown",
   "metadata": {},
   "source": [
    "#### Why speed is flipping from 33MPH to 0MPH very often\n",
    "We add some logging in the simulator and we found that at time step `t`\n",
    "* when we are computing the next_x and next_y, the car might consume some more points (from previous planned path)\n",
    "* when the simulator received the next_x, next_y, the car might be at some point very close to one point in this planned path (but not exact) due to this the speed is close to 0\n",
    "\n",
    "Here is the illustration at time step `t=1`"
   ]
  },
  {
   "cell_type": "code",
   "execution_count": 4,
   "metadata": {},
   "outputs": [
    {
     "name": "stdout",
     "output_type": "stream",
     "text": [
      "step 1 [ 909.7784  910.0784] [ 1128.838  1128.84 ]\n",
      "step 2 [ 910.0783] [ 1128.84]\n"
     ]
    },
    {
     "data": {
      "image/png": "[encoded data removed]",
      "text/plain": [
       "<matplotlib.figure.Figure at 0x10d3f7550>"
      ]
     },
     "metadata": {},
     "output_type": "display_data"
    }
   ],
   "source": [
    "markers = ['o','*']\n",
    "for t in range(1, 3):\n",
    "    sim_x = sim_df[sim_df.step==t].x.values\n",
    "    sim_y = sim_df[sim_df.step==t].y.values\n",
    "    print('step {}'.format(t), sim_x, sim_y)\n",
    "    plt.scatter(sim_x, sim_y, \n",
    "                marker=markers[t%len(markers)], \n",
    "                label='sim at {}'.format(t), alpha=1-0.4*t)\n",
    "    \n",
    "_=plt.legend()"
   ]
  },
  {
   "cell_type": "markdown",
   "metadata": {},
   "source": [
    "One can see that at the step 2, we start at a point very close to the point that we already parsed. This is the main reason that causes the speed flipping between 0MPH and 33MPH."
   ]
  },
  {
   "cell_type": "markdown",
   "metadata": {},
   "source": [
    "#### Why it breaks speed limit\n",
    "Note that we works on Frenet coordinate with constant speed in `s` direction. However, when translate into Cartesian, the speed can be very different especially when the road is curvy for example at time step `t=116`"
   ]
  },
  {
   "cell_type": "code",
   "execution_count": 4,
   "metadata": {},
   "outputs": [
    {
     "name": "stdout",
     "output_type": "stream",
     "text": [
      "(array([116, 277, 419]),)\n"
     ]
    }
   ],
   "source": [
    "print(np.where(speed.vals>50))"
   ]
  },
  {
   "cell_type": "code",
   "execution_count": 5,
   "metadata": {},
   "outputs": [
    {
     "data": {
      "text/plain": [
       "<matplotlib.collections.PathCollection at 0x10c556fd0>"
      ]
     },
     "execution_count": 5,
     "metadata": {},
     "output_type": "execute_result"
    },
    {
     "data": {
      "image/png": "[encoded data removed]",
      "text/plain": [
       "<matplotlib.figure.Figure at 0x10c4eceb8>"
      ]
     },
     "metadata": {},
     "output_type": "display_data"
    }
   ],
   "source": [
    "x_steps = np.array([])\n",
    "y_steps = np.array([])\n",
    "\n",
    "x_nearestwp = []\n",
    "y_nearestwp = []\n",
    "for t in range(110,120):\n",
    "    x_steps=np.append(x_steps, sim_df[sim_df.step==t].x.values)\n",
    "    y_steps=np.append(y_steps, sim_df[sim_df.step==t].y.values)\n",
    "    \n",
    "    \n",
    "plt.scatter(x_steps, y_steps)"
   ]
  },
  {
   "cell_type": "markdown",
   "metadata": {},
   "source": [
    "We can see at step 115 to 116, the two points is quite far apart, let's look at the nearest waypoints"
   ]
  },
  {
   "cell_type": "code",
   "execution_count": 10,
   "metadata": {},
   "outputs": [
    {
     "data": {
      "image/png": "[encoded data removed]",
      "text/plain": [
       "<matplotlib.figure.Figure at 0x101c47550>"
      ]
     },
     "metadata": {},
     "output_type": "display_data"
    }
   ],
   "source": [
    "from utils import Highway\n",
    "\n",
    "hwm = Highway('data/highway_map.csv')\n",
    "inearest = []\n",
    "for x,y in zip(x_steps, y_steps):\n",
    "    inearest.append(hwm.closestWaypoint(x, y))\n",
    "  \n",
    "_=plt.scatter(high_way.x[np.min(inearest)-2:np.max(inearest)+3], \n",
    "              high_way.y[np.min(inearest)-2:np.max(inearest)+3])"
   ]
  },
  {
   "cell_type": "markdown",
   "metadata": {},
   "source": [
    "One can find the the road is quite curvy which can cause that by changing in Frenet by 33MPH, it can be much bigger in Cartesian. This is the reason that causes our car breaking speed-limit."
   ]
  },
  {
   "cell_type": "markdown",
   "metadata": {},
   "source": [
    "#### Why the trajectory is not smooth\n",
    "Note that we **regenerate** a trajectory in Frenet coordinate and convert back to Cartesian. This conversion between Frenet and Cartesian is not very precise since\n",
    "\n",
    "* the highway maps is quite sparse (each consecutive points have a distance of `30m`)\n",
    "* the convert from Cartesian to Frenet then revert back to Cartesian can have big inconsistence.\n",
    "\n",
    "Here is an example"
   ]
  },
  {
   "cell_type": "code",
   "execution_count": 11,
   "metadata": {},
   "outputs": [
    {
     "name": "stdout",
     "output_type": "stream",
     "text": [
      "Max x-diff 30.404008997964866\n",
      "Max y-diff 30.404008997964866\n"
     ]
    },
    {
     "data": {
      "image/png": "[encoded data removed]",
      "text/plain": [
       "<matplotlib.figure.Figure at 0x11016d6d8>"
      ]
     },
     "metadata": {},
     "output_type": "display_data"
    }
   ],
   "source": [
    "x_y_yaw = []\n",
    "s_d = []\n",
    "x_y_reinvert = []\n",
    "for t in range(1,10):\n",
    "    idx = 12 * (t - 1)\n",
    "\n",
    "    x = drive_df.vals[idx]\n",
    "    y = drive_df.vals[idx + 1]\n",
    "    yaw = drive_df.vals[idx + 4]\n",
    "    x_y_yaw.append([x,y,yaw])\n",
    "    s,d = hwm.getFrenet(x, y, yaw)\n",
    "    x,y = hwm.getXY(s, d)\n",
    "    x_y_reinvert.append([x, y])\n",
    "    \n",
    "x_y_yaw = np.array(x_y_yaw)\n",
    "x_y_reinvert = np.array(x_y_reinvert)\n",
    "f, axs = plt.subplots(2,1,figsize=(15,15))\n",
    "axs[0].scatter(x_y_yaw[:, 0], x_y_reinvert[:, 0])\n",
    "axs[0].set_xlabel('x input')\n",
    "axs[0].set_ylabel('x re-invert')\n",
    "axs[1].scatter(x_y_yaw[:, 1], x_y_reinvert[:, 1])\n",
    "axs[1].set_xlabel('y input')\n",
    "axs[1].set_ylabel('y re-invert')\n",
    "\n",
    "print('Max x-diff {}'.format(np.max(np.abs(x_y_yaw[:, 0] - x_y_reinvert[:, 0]))))\n",
    "print('Max y-diff {}'.format(np.max(np.abs(x_y_yaw[:, 0] - x_y_reinvert[:, 0]))))"
   ]
  },
  {
   "cell_type": "markdown",
   "metadata": {},
   "source": [
    "Note that the highway map has each consecutive points is 30m apart so when we convert back and forth between Cartesian and Frenet, it's quite easy to introduce these error."
   ]
  },
  {
   "cell_type": "markdown",
   "metadata": {},
   "source": [
    "### Solution\n",
    "We need to find solution for the above issue\n",
    "* latency: to tackle this, we need to use previous_path_x, previous_path_y and we append the next points into this list. This will ensure our trajectory is continuous and speed won't go to 0\n",
    "* speed-limit: we need to ensure the car's speed in Cartesian (more detail in the following)\n",
    "* trajectory not smooth: we should keep previous_path_x, previous_path_y and we append the next planner points into the list. Note that to handle the inconsistence due to conversion between Frenet and Cartesian one can Spline to interpolate the highway points to make it 1m apart (instead of 30m apart).\n",
    "\n",
    "#### Using the previous path to tackle latency\n",
    "The implementation is done in `getTrajectoryKeepLaneAppending`"
   ]
  },
  {
   "cell_type": "code",
   "execution_count": 59,
   "metadata": {},
   "outputs": [
    {
     "data": {
      "text/plain": [
       "<matplotlib.collections.PathCollection at 0x1122274e0>"
      ]
     },
     "execution_count": 59,
     "metadata": {},
     "output_type": "execute_result"
    },
    {
     "data": {
      "image/png": "[encoded data removed]",
      "text/plain": [
       "<matplotlib.figure.Figure at 0x11246bf60>"
      ]
     },
     "metadata": {},
     "output_type": "display_data"
    }
   ],
   "source": [
    "drive2_df = pd.read_csv('drive-logs/experiment2-drive.csv', delimiter=';', \n",
    "                 names=['step', 'tag', 'vals'], \n",
    "                 converters={'vals' : lambda x: eval(x)})\n",
    "sim2_df = pd.read_csv('drive-logs/experiment2-sim.csv', names=['step', 'x', 'y'], delimiter=' ')\n",
    "speed2 = drive2_df[drive2_df.tag=='speed']\n",
    "plt.scatter(speed2.step, speed2.vals)"
   ]
  },
  {
   "cell_type": "code",
   "execution_count": 31,
   "metadata": {},
   "outputs": [
    {
     "data": {
      "text/html": [
       "<div>\n",
       "<style>\n",
       "    .dataframe thead tr:only-child th {\n",
       "        text-align: right;\n",
       "    }\n",
       "\n",
       "    .dataframe thead th {\n",
       "        text-align: left;\n",
       "    }\n",
       "\n",
       "    .dataframe tbody tr th {\n",
       "        vertical-align: top;\n",
       "    }\n",
       "</style>\n",
       "<table border=\"1\" class=\"dataframe\">\n",
       "  <thead>\n",
       "    <tr style=\"text-align: right;\">\n",
       "      <th></th>\n",
       "      <th>step</th>\n",
       "      <th>tag</th>\n",
       "      <th>vals</th>\n",
       "    </tr>\n",
       "  </thead>\n",
       "  <tbody>\n",
       "    <tr>\n",
       "      <th>0</th>\n",
       "      <td>1</td>\n",
       "      <td>x</td>\n",
       "      <td>909.48</td>\n",
       "    </tr>\n",
       "    <tr>\n",
       "      <th>1</th>\n",
       "      <td>1</td>\n",
       "      <td>y</td>\n",
       "      <td>1128.67</td>\n",
       "    </tr>\n",
       "    <tr>\n",
       "      <th>2</th>\n",
       "      <td>1</td>\n",
       "      <td>s</td>\n",
       "      <td>124.834</td>\n",
       "    </tr>\n",
       "    <tr>\n",
       "      <th>3</th>\n",
       "      <td>1</td>\n",
       "      <td>d</td>\n",
       "      <td>6.165</td>\n",
       "    </tr>\n",
       "    <tr>\n",
       "      <th>4</th>\n",
       "      <td>1</td>\n",
       "      <td>yaw</td>\n",
       "      <td>0</td>\n",
       "    </tr>\n",
       "    <tr>\n",
       "      <th>5</th>\n",
       "      <td>1</td>\n",
       "      <td>speed</td>\n",
       "      <td>0</td>\n",
       "    </tr>\n",
       "    <tr>\n",
       "      <th>6</th>\n",
       "      <td>1</td>\n",
       "      <td>end_path_s</td>\n",
       "      <td>0</td>\n",
       "    </tr>\n",
       "    <tr>\n",
       "      <th>7</th>\n",
       "      <td>1</td>\n",
       "      <td>end_path_d</td>\n",
       "      <td>0</td>\n",
       "    </tr>\n",
       "    <tr>\n",
       "      <th>8</th>\n",
       "      <td>1</td>\n",
       "      <td>previous_path_x</td>\n",
       "      <td>[]</td>\n",
       "    </tr>\n",
       "    <tr>\n",
       "      <th>9</th>\n",
       "      <td>1</td>\n",
       "      <td>previous_path_y</td>\n",
       "      <td>[]</td>\n",
       "    </tr>\n",
       "    <tr>\n",
       "      <th>10</th>\n",
       "      <td>1</td>\n",
       "      <td>next_s_vals</td>\n",
       "      <td>[125.134, 125.434, 125.734, 126.034, 126.334, ...</td>\n",
       "    </tr>\n",
       "    <tr>\n",
       "      <th>11</th>\n",
       "      <td>1</td>\n",
       "      <td>next_d_vals</td>\n",
       "      <td>[6.0, 6.0, 6.0, 6.0, 6.0, 6.0, 6.0, 6.0, 6.0, ...</td>\n",
       "    </tr>\n",
       "    <tr>\n",
       "      <th>12</th>\n",
       "      <td>1</td>\n",
       "      <td>next_x_vals</td>\n",
       "      <td>[909.778, 910.078, 910.378, 910.678, 910.978, ...</td>\n",
       "    </tr>\n",
       "    <tr>\n",
       "      <th>13</th>\n",
       "      <td>1</td>\n",
       "      <td>next_y_vals</td>\n",
       "      <td>[1128.838, 1128.84, 1128.843, 1128.845, 1128.8...</td>\n",
       "    </tr>\n",
       "  </tbody>\n",
       "</table>\n",
       "</div>"
      ],
      "text/plain": [
       "    step              tag                                               vals\n",
       "0      1                x                                             909.48\n",
       "1      1                y                                            1128.67\n",
       "2      1                s                                            124.834\n",
       "3      1                d                                              6.165\n",
       "4      1              yaw                                                  0\n",
       "5      1            speed                                                  0\n",
       "6      1       end_path_s                                                  0\n",
       "7      1       end_path_d                                                  0\n",
       "8      1  previous_path_x                                                 []\n",
       "9      1  previous_path_y                                                 []\n",
       "10     1      next_s_vals  [125.134, 125.434, 125.734, 126.034, 126.334, ...\n",
       "11     1      next_d_vals  [6.0, 6.0, 6.0, 6.0, 6.0, 6.0, 6.0, 6.0, 6.0, ...\n",
       "12     1      next_x_vals  [909.778, 910.078, 910.378, 910.678, 910.978, ...\n",
       "13     1      next_y_vals  [1128.838, 1128.84, 1128.843, 1128.845, 1128.8..."
      ]
     },
     "execution_count": 31,
     "metadata": {},
     "output_type": "execute_result"
    }
   ],
   "source": [
    "drive2_df[drive2_df.step==1]"
   ]
  },
  {
   "cell_type": "code",
   "execution_count": 69,
   "metadata": {},
   "outputs": [
    {
     "data": {
      "text/plain": [
       "[<matplotlib.lines.Line2D at 0x111502a90>]"
      ]
     },
     "execution_count": 69,
     "metadata": {},
     "output_type": "execute_result"
    },
    {
     "data": {
      "image/png": "[encoded data removed]",
      "text/plain": [
       "<matplotlib.figure.Figure at 0x10d371550>"
      ]
     },
     "metadata": {},
     "output_type": "display_data"
    }
   ],
   "source": [
    "plt.plot(drive2_df[drive2_df.tag=='previous_path_x'].vals.apply(lambda x: len(x)).values[1:])"
   ]
  },
  {
   "cell_type": "code",
   "execution_count": 60,
   "metadata": {},
   "outputs": [
    {
     "data": {
      "text/html": [
       "<div>\n",
       "<style>\n",
       "    .dataframe thead tr:only-child th {\n",
       "        text-align: right;\n",
       "    }\n",
       "\n",
       "    .dataframe thead th {\n",
       "        text-align: left;\n",
       "    }\n",
       "\n",
       "    .dataframe tbody tr th {\n",
       "        vertical-align: top;\n",
       "    }\n",
       "</style>\n",
       "<table border=\"1\" class=\"dataframe\">\n",
       "  <thead>\n",
       "    <tr style=\"text-align: right;\">\n",
       "      <th></th>\n",
       "      <th>step</th>\n",
       "      <th>x</th>\n",
       "      <th>y</th>\n",
       "    </tr>\n",
       "  </thead>\n",
       "  <tbody>\n",
       "    <tr>\n",
       "      <th>0</th>\n",
       "      <td>1</td>\n",
       "      <td>909.7784</td>\n",
       "      <td>1128.838</td>\n",
       "    </tr>\n",
       "    <tr>\n",
       "      <th>1</th>\n",
       "      <td>1</td>\n",
       "      <td>910.0784</td>\n",
       "      <td>1128.840</td>\n",
       "    </tr>\n",
       "    <tr>\n",
       "      <th>2</th>\n",
       "      <td>2</td>\n",
       "      <td>910.3784</td>\n",
       "      <td>1128.843</td>\n",
       "    </tr>\n",
       "    <tr>\n",
       "      <th>3</th>\n",
       "      <td>2</td>\n",
       "      <td>910.6784</td>\n",
       "      <td>1128.845</td>\n",
       "    </tr>\n",
       "    <tr>\n",
       "      <th>4</th>\n",
       "      <td>2</td>\n",
       "      <td>910.9784</td>\n",
       "      <td>1128.848</td>\n",
       "    </tr>\n",
       "  </tbody>\n",
       "</table>\n",
       "</div>"
      ],
      "text/plain": [
       "   step         x         y\n",
       "0     1  909.7784  1128.838\n",
       "1     1  910.0784  1128.840\n",
       "2     2  910.3784  1128.843\n",
       "3     2  910.6784  1128.845\n",
       "4     2  910.9784  1128.848"
      ]
     },
     "execution_count": 60,
     "metadata": {},
     "output_type": "execute_result"
    }
   ],
   "source": [
    "sim2_df.head()"
   ]
  },
  {
   "cell_type": "code",
   "execution_count": 78,
   "metadata": {},
   "outputs": [
    {
     "data": {
      "text/plain": [
       "[<matplotlib.lines.Line2D at 0x10d1f01d0>]"
      ]
     },
     "execution_count": 78,
     "metadata": {},
     "output_type": "execute_result"
    },
    {
     "data": {
      "image/png": "[encoded data removed]",
      "text/plain": [
       "<matplotlib.figure.Figure at 0x1115dca90>"
      ]
     },
     "metadata": {},
     "output_type": "display_data"
    }
   ],
   "source": [
    "plt.plot(sim2_df.groupby('step').count()['x'].values[:-1])"
   ]
  },
  {
   "cell_type": "markdown",
   "metadata": {},
   "source": [
    "Look at above result, one can see that the simulator consumes 1-2 points each step."
   ]
  },
  {
   "cell_type": "code",
   "execution_count": 45,
   "metadata": {},
   "outputs": [],
   "source": [
    "def build_idx_map(df):\n",
    "    tags = df[df.step==1].tag.values\n",
    "    \n",
    "    retval = {}\n",
    "    for key in tags:\n",
    "        retval[key] = df[(df.step==1)&(df.tag==key)].index.values[0]\n",
    "\n",
    "    return retval\n",
    "\n",
    "def get_next_sdxy(log_drive, idx_map, step):\n",
    "    log_at_step = log_drive[log_drive.step==step]\n",
    "    next_s_vals = log_at_step.iloc[idx_map['next_s_vals']].vals\n",
    "    next_d_vals = log_at_step.iloc[idx_map['next_d_vals']].vals\n",
    "    next_x_vals = log_at_step.iloc[idx_map['next_x_vals']].vals\n",
    "    next_y_vals = log_at_step.iloc[idx_map['next_y_vals']].vals\n",
    "    return next_s_vals, next_d_vals, next_x_vals, next_y_vals"
   ]
  },
  {
   "cell_type": "code",
   "execution_count": 84,
   "metadata": {},
   "outputs": [
    {
     "data": {
      "image/png": "[encoded data removed]",
      "text/plain": [
       "<matplotlib.figure.Figure at 0x111b5fb00>"
      ]
     },
     "metadata": {},
     "output_type": "display_data"
    }
   ],
   "source": [
    "def visualize(log_drive, log_sim, step):\n",
    "    idx_map = build_idx_map(log_drive)\n",
    "    next_s_vals, next_d_vals, next_x_vals, next_y_vals = get_next_sdxy(log_drive, idx_map, step)\n",
    "    fig, axes = plt.subplots(2, 2, figsize=(15,10))\n",
    "    \n",
    "    axes[0, 0].scatter(next_s_vals[:10],  next_d_vals[:10], s=10)\n",
    "    axes[0, 0].set_title('First 10 points in Frenet')\n",
    "    axes[1, 0].scatter(next_s_vals[-10:], next_d_vals[-10:], s=10)\n",
    "    axes[1, 0].set_title('Last 10 points in Frenet')\n",
    "    axes[0, 0].get_shared_x_axes().join(axes[0, 0], axes[1, 0])    \n",
    "    \n",
    "    axes[0, 1].scatter(next_x_vals[:10],  next_y_vals[:10], s=10)\n",
    "    axes[0, 1].set_title('First 10 points in Catersian')\n",
    "    axes[1, 1].scatter(next_x_vals[-10:], next_y_vals[-10:], s=10)\n",
    "    axes[1, 1].set_title('Last 10 points in Catersian')\n",
    "    #axes[0, 1].get_shared_x_axes().join(axes[0, 1], axes[1, 1]) \n",
    "    \n",
    "    # draw previous steps\n",
    "    if step > 1:\n",
    "        s_vals, d_vals, x_vals, y_vals = get_next_sdxy(log_drive, idx_map, step - 1)\n",
    "        prev_sim = log_sim[log_sim.step==step-1]\n",
    "        axes[0, 1].scatter(prev_sim.x,  prev_sim.y, s=10, alpha=0.2)\n",
    "        axes[1, 0].scatter(s_vals[-10:], d_vals[-10:],s=40,alpha=0.2)\n",
    "        axes[1, 1].scatter(x_vals[-10:], y_vals[-10:],s=40,alpha=0.2)\n",
    "    \n",
    "visualize(drive2_df, sim2_df, 2)"
   ]
  },
  {
   "cell_type": "code",
   "execution_count": 99,
   "metadata": {},
   "outputs": [
    {
     "data": {
      "image/png": "[encoded data removed]",
      "text/plain": [
       "<matplotlib.figure.Figure at 0x10d1eb588>"
      ]
     },
     "metadata": {},
     "output_type": "display_data"
    }
   ],
   "source": [
    "visualize(drive2_df, sim2_df, 692)"
   ]
  },
  {
   "cell_type": "code",
   "execution_count": 11,
   "metadata": {},
   "outputs": [
    {
     "name": "stdout",
     "output_type": "stream",
     "text": [
      "       step    tag   vals\n",
      "5         1  speed      0\n",
      "10393   743  speed  2.265\n",
      "10407   744  speed  2.242\n",
      "10421   745  speed  2.238\n",
      "10435   746  speed   2.25\n",
      "10449   747  speed  2.242\n",
      "10463   748  speed  2.251\n",
      "10477   749  speed  2.242\n",
      "10491   750  speed   2.25\n",
      "10505   751  speed  2.228\n",
      "18905  1351  speed  10.83\n",
      "23189  1657  speed   11.1\n",
      "23203  1658  speed  11.06\n"
     ]
    }
   ],
   "source": [
    "print(speed2[speed2.vals < 20])"
   ]
  },
  {
   "cell_type": "code",
   "execution_count": 7,
   "metadata": {},
   "outputs": [
    {
     "name": "stdout",
     "output_type": "stream",
     "text": [
      "49\n"
     ]
    },
    {
     "data": {
      "text/plain": [
       "<matplotlib.collections.PathCollection at 0x11154b240>"
      ]
     },
     "execution_count": 7,
     "metadata": {},
     "output_type": "execute_result"
    },
    {
     "data": {
      "image/png": "[encoded data removed]",
      "text/plain": [
       "<matplotlib.figure.Figure at 0x10cc41208>"
      ]
     },
     "metadata": {},
     "output_type": "display_data"
    }
   ],
   "source": [
    "f, axs = plt.subplots(2,1,figsize=(10,10),sharex=True, sharey=True)\n",
    "idx = 753*12\n",
    "print(len(drive2_df.vals[idx + 8]))\n",
    "axs[0].scatter(drive2_df.vals[idx + 8][:10], drive2_df.vals[idx+9][:10])\n",
    "axs[0].scatter(drive2_df.vals[idx + 10][:10], drive2_df.vals[idx + 11][:10], s=10, marker='*')\n",
    "axs[0]  \n",
    "    \n",
    "idx += 12\n",
    "axs[1].scatter(drive2_df.vals[idx + 10][:10], drive2_df.vals[idx + 11][:10])\n",
    "axs[1].scatter(drive2_df.vals[idx], drive2_df.vals[idx+1],alpha=0.2)"
   ]
  },
  {
   "cell_type": "markdown",
   "metadata": {},
   "source": [
    "We can see that the speed is mostly at 33MPH (which is expected). We still see breaking limit issue (but this is expected since we haven't tackled it). Some point the speed is quite small, this is due to the conversion between between Cartesian and Frenet."
   ]
  },
  {
   "cell_type": "markdown",
   "metadata": {},
   "source": [
    "#### Control car speed limit in Cartesian\n",
    "In this part, we try two things:\n",
    "\n",
    "* ensure car speed in Cartesian\n",
    "* use Spline to plan next point\n",
    "* do planning in car's local coordinate\n",
    "\n",
    "This is implemented in `getTrajectoryKeepLaneSpline`"
   ]
  },
  {
   "cell_type": "code",
   "execution_count": 8,
   "metadata": {},
   "outputs": [
    {
     "ename": "NameError",
     "evalue": "name 'df' is not defined",
     "output_type": "error",
     "traceback": [
      "\u001b[0;31m---------------------------------------------------------------------------\u001b[0m",
      "\u001b[0;31mNameError\u001b[0m                                 Traceback (most recent call last)",
      "\u001b[0;32m<ipython-input-8-ea6f95704cf7>\u001b[0m in \u001b[0;36m<module>\u001b[0;34m()\u001b[0m\n\u001b[0;32m----> 1\u001b[0;31m \u001b[0mnb_row_per_step\u001b[0m \u001b[0;34m=\u001b[0m \u001b[0mlen\u001b[0m\u001b[0;34m(\u001b[0m\u001b[0mdf\u001b[0m\u001b[0;34m[\u001b[0m\u001b[0mdf\u001b[0m\u001b[0;34m.\u001b[0m\u001b[0mstep\u001b[0m\u001b[0;34m==\u001b[0m\u001b[0;36m1\u001b[0m\u001b[0;34m]\u001b[0m\u001b[0;34m)\u001b[0m\u001b[0;34m\u001b[0m\u001b[0m\n\u001b[0m\u001b[1;32m      2\u001b[0m \u001b[0mtag_to_idx\u001b[0m \u001b[0;34m=\u001b[0m \u001b[0;34m{\u001b[0m\u001b[0mdf\u001b[0m\u001b[0;34m.\u001b[0m\u001b[0mtag\u001b[0m\u001b[0;34m[\u001b[0m\u001b[0mi\u001b[0m\u001b[0;34m]\u001b[0m \u001b[0;34m:\u001b[0m \u001b[0mi\u001b[0m \u001b[0;32mfor\u001b[0m \u001b[0mi\u001b[0m \u001b[0;32min\u001b[0m \u001b[0mrange\u001b[0m\u001b[0;34m(\u001b[0m\u001b[0mnb_row_per_step\u001b[0m\u001b[0;34m)\u001b[0m\u001b[0;34m}\u001b[0m\u001b[0;34m\u001b[0m\u001b[0m\n",
      "\u001b[0;31mNameError\u001b[0m: name 'df' is not defined"
     ]
    }
   ],
   "source": [
    "nb_row_per_step = len(df[df.step==1])\n",
    "tag_to_idx = {df.tag[i] : i for i in range(nb_row_per_step)}"
   ]
  },
  {
   "cell_type": "markdown",
   "metadata": {},
   "source": [
    "The highway data consists\n",
    "* x, y: are the waypoint's map coordinate position\n",
    "* s: is the distance along the road to get to the waypoint in meters\n",
    "* dx, dy: values define the unit normal vector pointing outward of the highway loop"
   ]
  },
  {
   "cell_type": "code",
   "execution_count": 3,
   "metadata": {},
   "outputs": [
    {
     "data": {
      "text/html": [
       "<div>\n",
       "<style>\n",
       "    .dataframe thead tr:only-child th {\n",
       "        text-align: right;\n",
       "    }\n",
       "\n",
       "    .dataframe thead th {\n",
       "        text-align: left;\n",
       "    }\n",
       "\n",
       "    .dataframe tbody tr th {\n",
       "        vertical-align: top;\n",
       "    }\n",
       "</style>\n",
       "<table border=\"1\" class=\"dataframe\">\n",
       "  <thead>\n",
       "    <tr style=\"text-align: right;\">\n",
       "      <th></th>\n",
       "      <th>x</th>\n",
       "      <th>y</th>\n",
       "      <th>s</th>\n",
       "      <th>dx</th>\n",
       "      <th>dy</th>\n",
       "    </tr>\n",
       "  </thead>\n",
       "  <tbody>\n",
       "    <tr>\n",
       "      <th>0</th>\n",
       "      <td>784.6001</td>\n",
       "      <td>1135.571</td>\n",
       "      <td>0.000000</td>\n",
       "      <td>-0.023598</td>\n",
       "      <td>-0.999722</td>\n",
       "    </tr>\n",
       "    <tr>\n",
       "      <th>1</th>\n",
       "      <td>815.2679</td>\n",
       "      <td>1134.930</td>\n",
       "      <td>30.674479</td>\n",
       "      <td>-0.010995</td>\n",
       "      <td>-0.999940</td>\n",
       "    </tr>\n",
       "    <tr>\n",
       "      <th>2</th>\n",
       "      <td>844.6398</td>\n",
       "      <td>1134.911</td>\n",
       "      <td>60.046371</td>\n",
       "      <td>-0.002048</td>\n",
       "      <td>-0.999998</td>\n",
       "    </tr>\n",
       "    <tr>\n",
       "      <th>3</th>\n",
       "      <td>875.0436</td>\n",
       "      <td>1134.808</td>\n",
       "      <td>90.450415</td>\n",
       "      <td>-0.001848</td>\n",
       "      <td>-0.999998</td>\n",
       "    </tr>\n",
       "    <tr>\n",
       "      <th>4</th>\n",
       "      <td>905.2830</td>\n",
       "      <td>1134.799</td>\n",
       "      <td>120.689735</td>\n",
       "      <td>0.004131</td>\n",
       "      <td>-0.999992</td>\n",
       "    </tr>\n",
       "  </tbody>\n",
       "</table>\n",
       "</div>"
      ],
      "text/plain": [
       "          x         y           s        dx        dy\n",
       "0  784.6001  1135.571    0.000000 -0.023598 -0.999722\n",
       "1  815.2679  1134.930   30.674479 -0.010995 -0.999940\n",
       "2  844.6398  1134.911   60.046371 -0.002048 -0.999998\n",
       "3  875.0436  1134.808   90.450415 -0.001848 -0.999998\n",
       "4  905.2830  1134.799  120.689735  0.004131 -0.999992"
      ]
     },
     "execution_count": 3,
     "metadata": {},
     "output_type": "execute_result"
    }
   ],
   "source": [
    "high_way.head()"
   ]
  },
  {
   "cell_type": "code",
   "execution_count": 4,
   "metadata": {},
   "outputs": [
    {
     "data": {
      "text/html": [
       "<div>\n",
       "<style>\n",
       "    .dataframe thead tr:only-child th {\n",
       "        text-align: right;\n",
       "    }\n",
       "\n",
       "    .dataframe thead th {\n",
       "        text-align: left;\n",
       "    }\n",
       "\n",
       "    .dataframe tbody tr th {\n",
       "        vertical-align: top;\n",
       "    }\n",
       "</style>\n",
       "<table border=\"1\" class=\"dataframe\">\n",
       "  <thead>\n",
       "    <tr style=\"text-align: right;\">\n",
       "      <th></th>\n",
       "      <th>x</th>\n",
       "      <th>y</th>\n",
       "      <th>s</th>\n",
       "      <th>dx</th>\n",
       "      <th>dy</th>\n",
       "    </tr>\n",
       "  </thead>\n",
       "  <tbody>\n",
       "    <tr>\n",
       "      <th>176</th>\n",
       "      <td>594.5000</td>\n",
       "      <td>1211.000</td>\n",
       "      <td>6735.577816</td>\n",
       "      <td>-0.661828</td>\n",
       "      <td>-0.749655</td>\n",
       "    </tr>\n",
       "    <tr>\n",
       "      <th>177</th>\n",
       "      <td>630.9000</td>\n",
       "      <td>1181.300</td>\n",
       "      <td>6782.557053</td>\n",
       "      <td>-0.564178</td>\n",
       "      <td>-0.825653</td>\n",
       "    </tr>\n",
       "    <tr>\n",
       "      <th>178</th>\n",
       "      <td>670.6000</td>\n",
       "      <td>1159.000</td>\n",
       "      <td>6828.091419</td>\n",
       "      <td>-0.425906</td>\n",
       "      <td>-0.904767</td>\n",
       "    </tr>\n",
       "    <tr>\n",
       "      <th>179</th>\n",
       "      <td>711.2000</td>\n",
       "      <td>1143.500</td>\n",
       "      <td>6871.549595</td>\n",
       "      <td>-0.263706</td>\n",
       "      <td>-0.964603</td>\n",
       "    </tr>\n",
       "    <tr>\n",
       "      <th>180</th>\n",
       "      <td>753.2067</td>\n",
       "      <td>1136.417</td>\n",
       "      <td>6914.149258</td>\n",
       "      <td>-0.107399</td>\n",
       "      <td>-0.994216</td>\n",
       "    </tr>\n",
       "  </tbody>\n",
       "</table>\n",
       "</div>"
      ],
      "text/plain": [
       "            x         y            s        dx        dy\n",
       "176  594.5000  1211.000  6735.577816 -0.661828 -0.749655\n",
       "177  630.9000  1181.300  6782.557053 -0.564178 -0.825653\n",
       "178  670.6000  1159.000  6828.091419 -0.425906 -0.904767\n",
       "179  711.2000  1143.500  6871.549595 -0.263706 -0.964603\n",
       "180  753.2067  1136.417  6914.149258 -0.107399 -0.994216"
      ]
     },
     "execution_count": 4,
     "metadata": {},
     "output_type": "execute_result"
    }
   ],
   "source": [
    "high_way.tail()"
   ]
  },
  {
   "cell_type": "code",
   "execution_count": 5,
   "metadata": {},
   "outputs": [
    {
     "data": {
      "image/png": "[encoded data removed]",
      "text/plain": [
       "<matplotlib.figure.Figure at 0x10e443f98>"
      ]
     },
     "metadata": {},
     "output_type": "display_data"
    }
   ],
   "source": [
    "_ = plt.plot(high_way.x, high_way.y, '.')"
   ]
  },
  {
   "cell_type": "markdown",
   "metadata": {},
   "source": [
    "## Speed violated"
   ]
  },
  {
   "cell_type": "markdown",
   "metadata": {},
   "source": [
    "#### Why speed becomes close to 0.\n",
    "The first version of following lane always use same d and varies s, then convert back to Cartersian (x,y). \n",
    "We observe that the speed can become very close to 0.0. This is due to latency, so each time we compute the next_x_path, next_y_path, the car is already advanced to the next points that very close to this planned points. This cause the speed change abruptly.\n",
    "\n",
    "This can be fixed by keep using `previous_path_x, previous_path_y`, and we only add new points at the end."
   ]
  },
  {
   "cell_type": "markdown",
   "metadata": {},
   "source": [
    "#### Why speed becomes > 50MPH\n",
    "Here is where we got speed > 50MPH"
   ]
  },
  {
   "cell_type": "code",
   "execution_count": 6,
   "metadata": {},
   "outputs": [
    {
     "data": {
      "text/plain": [
       "[<matplotlib.lines.Line2D at 0x10ef54a58>]"
      ]
     },
     "execution_count": 6,
     "metadata": {},
     "output_type": "execute_result"
    },
    {
     "data": {
      "image/png": "[encoded data removed]",
      "text/plain": [
       "<matplotlib.figure.Figure at 0x10eb1a588>"
      ]
     },
     "metadata": {},
     "output_type": "display_data"
    }
   ],
   "source": [
    "speed = df[df.tag=='speed']\n",
    "plt.plot(speed.vals)"
   ]
  },
  {
   "cell_type": "code",
   "execution_count": 7,
   "metadata": {},
   "outputs": [
    {
     "data": {
      "text/html": [
       "<div>\n",
       "<style>\n",
       "    .dataframe thead tr:only-child th {\n",
       "        text-align: right;\n",
       "    }\n",
       "\n",
       "    .dataframe thead th {\n",
       "        text-align: left;\n",
       "    }\n",
       "\n",
       "    .dataframe tbody tr th {\n",
       "        vertical-align: top;\n",
       "    }\n",
       "</style>\n",
       "<table border=\"1\" class=\"dataframe\">\n",
       "  <thead>\n",
       "    <tr style=\"text-align: right;\">\n",
       "      <th></th>\n",
       "      <th>epochs</th>\n",
       "      <th>step</th>\n",
       "      <th>tag</th>\n",
       "      <th>vals</th>\n",
       "    </tr>\n",
       "  </thead>\n",
       "  <tbody>\n",
       "    <tr>\n",
       "      <th>833</th>\n",
       "      <td>0.030349</td>\n",
       "      <td>70</td>\n",
       "      <td>speed</td>\n",
       "      <td>102.873</td>\n",
       "    </tr>\n",
       "    <tr>\n",
       "      <th>1853</th>\n",
       "      <td>0.017470</td>\n",
       "      <td>155</td>\n",
       "      <td>speed</td>\n",
       "      <td>114.028</td>\n",
       "    </tr>\n",
       "    <tr>\n",
       "      <th>3077</th>\n",
       "      <td>0.033938</td>\n",
       "      <td>257</td>\n",
       "      <td>speed</td>\n",
       "      <td>151.921</td>\n",
       "    </tr>\n",
       "    <tr>\n",
       "      <th>6365</th>\n",
       "      <td>0.025120</td>\n",
       "      <td>531</td>\n",
       "      <td>speed</td>\n",
       "      <td>65.033</td>\n",
       "    </tr>\n",
       "    <tr>\n",
       "      <th>7157</th>\n",
       "      <td>0.023674</td>\n",
       "      <td>597</td>\n",
       "      <td>speed</td>\n",
       "      <td>58.526</td>\n",
       "    </tr>\n",
       "    <tr>\n",
       "      <th>22241</th>\n",
       "      <td>0.028401</td>\n",
       "      <td>1854</td>\n",
       "      <td>speed</td>\n",
       "      <td>51.731</td>\n",
       "    </tr>\n",
       "    <tr>\n",
       "      <th>22265</th>\n",
       "      <td>0.034020</td>\n",
       "      <td>1856</td>\n",
       "      <td>speed</td>\n",
       "      <td>51.705</td>\n",
       "    </tr>\n",
       "    <tr>\n",
       "      <th>22277</th>\n",
       "      <td>0.033624</td>\n",
       "      <td>1857</td>\n",
       "      <td>speed</td>\n",
       "      <td>51.772</td>\n",
       "    </tr>\n",
       "  </tbody>\n",
       "</table>\n",
       "</div>"
      ],
      "text/plain": [
       "         epochs  step    tag     vals\n",
       "833    0.030349    70  speed  102.873\n",
       "1853   0.017470   155  speed  114.028\n",
       "3077   0.033938   257  speed  151.921\n",
       "6365   0.025120   531  speed   65.033\n",
       "7157   0.023674   597  speed   58.526\n",
       "22241  0.028401  1854  speed   51.731\n",
       "22265  0.034020  1856  speed   51.705\n",
       "22277  0.033624  1857  speed   51.772"
      ]
     },
     "execution_count": 7,
     "metadata": {},
     "output_type": "execute_result"
    }
   ],
   "source": [
    "speed.loc[speed.vals > 50]"
   ]
  },
  {
   "cell_type": "code",
   "execution_count": 8,
   "metadata": {},
   "outputs": [
    {
     "data": {
      "text/html": [
       "<div>\n",
       "<style>\n",
       "    .dataframe thead tr:only-child th {\n",
       "        text-align: right;\n",
       "    }\n",
       "\n",
       "    .dataframe thead th {\n",
       "        text-align: left;\n",
       "    }\n",
       "\n",
       "    .dataframe tbody tr th {\n",
       "        vertical-align: top;\n",
       "    }\n",
       "</style>\n",
       "<table border=\"1\" class=\"dataframe\">\n",
       "  <thead>\n",
       "    <tr style=\"text-align: right;\">\n",
       "      <th></th>\n",
       "      <th>epochs</th>\n",
       "      <th>step</th>\n",
       "      <th>tag</th>\n",
       "      <th>vals</th>\n",
       "    </tr>\n",
       "  </thead>\n",
       "  <tbody>\n",
       "    <tr>\n",
       "      <th>5</th>\n",
       "      <td>20.654653</td>\n",
       "      <td>1</td>\n",
       "      <td>speed</td>\n",
       "      <td>0</td>\n",
       "    </tr>\n",
       "    <tr>\n",
       "      <th>13889</th>\n",
       "      <td>0.024823</td>\n",
       "      <td>1158</td>\n",
       "      <td>speed</td>\n",
       "      <td>9.934</td>\n",
       "    </tr>\n",
       "    <tr>\n",
       "      <th>16937</th>\n",
       "      <td>0.025297</td>\n",
       "      <td>1412</td>\n",
       "      <td>speed</td>\n",
       "      <td>11.775</td>\n",
       "    </tr>\n",
       "    <tr>\n",
       "      <th>21509</th>\n",
       "      <td>0.028777</td>\n",
       "      <td>1793</td>\n",
       "      <td>speed</td>\n",
       "      <td>24.26</td>\n",
       "    </tr>\n",
       "    <tr>\n",
       "      <th>21521</th>\n",
       "      <td>0.028253</td>\n",
       "      <td>1794</td>\n",
       "      <td>speed</td>\n",
       "      <td>24.277</td>\n",
       "    </tr>\n",
       "    <tr>\n",
       "      <th>21533</th>\n",
       "      <td>0.030017</td>\n",
       "      <td>1795</td>\n",
       "      <td>speed</td>\n",
       "      <td>24.262</td>\n",
       "    </tr>\n",
       "    <tr>\n",
       "      <th>22961</th>\n",
       "      <td>0.058218</td>\n",
       "      <td>1914</td>\n",
       "      <td>speed</td>\n",
       "      <td>17.298</td>\n",
       "    </tr>\n",
       "    <tr>\n",
       "      <th>22973</th>\n",
       "      <td>0.027422</td>\n",
       "      <td>1915</td>\n",
       "      <td>speed</td>\n",
       "      <td>17.347</td>\n",
       "    </tr>\n",
       "    <tr>\n",
       "      <th>22985</th>\n",
       "      <td>0.018302</td>\n",
       "      <td>1916</td>\n",
       "      <td>speed</td>\n",
       "      <td>17.391</td>\n",
       "    </tr>\n",
       "    <tr>\n",
       "      <th>22997</th>\n",
       "      <td>0.023755</td>\n",
       "      <td>1917</td>\n",
       "      <td>speed</td>\n",
       "      <td>17.366</td>\n",
       "    </tr>\n",
       "    <tr>\n",
       "      <th>23021</th>\n",
       "      <td>0.033252</td>\n",
       "      <td>1919</td>\n",
       "      <td>speed</td>\n",
       "      <td>17.425</td>\n",
       "    </tr>\n",
       "  </tbody>\n",
       "</table>\n",
       "</div>"
      ],
      "text/plain": [
       "          epochs  step    tag    vals\n",
       "5      20.654653     1  speed       0\n",
       "13889   0.024823  1158  speed   9.934\n",
       "16937   0.025297  1412  speed  11.775\n",
       "21509   0.028777  1793  speed   24.26\n",
       "21521   0.028253  1794  speed  24.277\n",
       "21533   0.030017  1795  speed  24.262\n",
       "22961   0.058218  1914  speed  17.298\n",
       "22973   0.027422  1915  speed  17.347\n",
       "22985   0.018302  1916  speed  17.391\n",
       "22997   0.023755  1917  speed  17.366\n",
       "23021   0.033252  1919  speed  17.425"
      ]
     },
     "execution_count": 8,
     "metadata": {},
     "output_type": "execute_result"
    }
   ],
   "source": [
    "speed.loc[speed.vals < 25]"
   ]
  },
  {
   "cell_type": "code",
   "execution_count": 9,
   "metadata": {},
   "outputs": [
    {
     "data": {
      "text/html": [
       "<div>\n",
       "<style>\n",
       "    .dataframe thead tr:only-child th {\n",
       "        text-align: right;\n",
       "    }\n",
       "\n",
       "    .dataframe thead th {\n",
       "        text-align: left;\n",
       "    }\n",
       "\n",
       "    .dataframe tbody tr th {\n",
       "        vertical-align: top;\n",
       "    }\n",
       "</style>\n",
       "<table border=\"1\" class=\"dataframe\">\n",
       "  <thead>\n",
       "    <tr style=\"text-align: right;\">\n",
       "      <th></th>\n",
       "      <th>step</th>\n",
       "      <th>x</th>\n",
       "      <th>y</th>\n",
       "      <th>s</th>\n",
       "      <th>d</th>\n",
       "      <th>yaw</th>\n",
       "      <th>speed</th>\n",
       "      <th>end_path_s</th>\n",
       "      <th>end_path_d</th>\n",
       "    </tr>\n",
       "  </thead>\n",
       "  <tbody>\n",
       "    <tr>\n",
       "      <th>0</th>\n",
       "      <td>1</td>\n",
       "      <td>909.48</td>\n",
       "      <td>1128.670</td>\n",
       "      <td>124.834</td>\n",
       "      <td>6.165</td>\n",
       "      <td>0.000</td>\n",
       "      <td>0.000</td>\n",
       "      <td>0.000</td>\n",
       "      <td>0.000</td>\n",
       "    </tr>\n",
       "    <tr>\n",
       "      <th>1</th>\n",
       "      <td>2</td>\n",
       "      <td>909.78</td>\n",
       "      <td>1128.673</td>\n",
       "      <td>125.133</td>\n",
       "      <td>6.164</td>\n",
       "      <td>0.479</td>\n",
       "      <td>33.534</td>\n",
       "      <td>139.833</td>\n",
       "      <td>6.166</td>\n",
       "    </tr>\n",
       "    <tr>\n",
       "      <th>2</th>\n",
       "      <td>3</td>\n",
       "      <td>910.98</td>\n",
       "      <td>1128.683</td>\n",
       "      <td>126.334</td>\n",
       "      <td>6.165</td>\n",
       "      <td>0.572</td>\n",
       "      <td>33.554</td>\n",
       "      <td>140.133</td>\n",
       "      <td>6.166</td>\n",
       "    </tr>\n",
       "    <tr>\n",
       "      <th>3</th>\n",
       "      <td>4</td>\n",
       "      <td>911.58</td>\n",
       "      <td>1128.688</td>\n",
       "      <td>126.933</td>\n",
       "      <td>6.165</td>\n",
       "      <td>0.478</td>\n",
       "      <td>33.553</td>\n",
       "      <td>141.333</td>\n",
       "      <td>6.166</td>\n",
       "    </tr>\n",
       "    <tr>\n",
       "      <th>4</th>\n",
       "      <td>5</td>\n",
       "      <td>911.88</td>\n",
       "      <td>1128.691</td>\n",
       "      <td>127.234</td>\n",
       "      <td>6.165</td>\n",
       "      <td>0.479</td>\n",
       "      <td>33.561</td>\n",
       "      <td>141.933</td>\n",
       "      <td>6.167</td>\n",
       "    </tr>\n",
       "    <tr>\n",
       "      <th>5</th>\n",
       "      <td>6</td>\n",
       "      <td>912.18</td>\n",
       "      <td>1128.693</td>\n",
       "      <td>127.533</td>\n",
       "      <td>6.165</td>\n",
       "      <td>0.479</td>\n",
       "      <td>33.540</td>\n",
       "      <td>142.233</td>\n",
       "      <td>6.167</td>\n",
       "    </tr>\n",
       "    <tr>\n",
       "      <th>6</th>\n",
       "      <td>7</td>\n",
       "      <td>912.48</td>\n",
       "      <td>1128.696</td>\n",
       "      <td>127.833</td>\n",
       "      <td>6.165</td>\n",
       "      <td>0.572</td>\n",
       "      <td>33.554</td>\n",
       "      <td>142.533</td>\n",
       "      <td>6.168</td>\n",
       "    </tr>\n",
       "    <tr>\n",
       "      <th>7</th>\n",
       "      <td>8</td>\n",
       "      <td>912.78</td>\n",
       "      <td>1128.699</td>\n",
       "      <td>128.133</td>\n",
       "      <td>6.164</td>\n",
       "      <td>0.478</td>\n",
       "      <td>33.561</td>\n",
       "      <td>142.833</td>\n",
       "      <td>6.168</td>\n",
       "    </tr>\n",
       "    <tr>\n",
       "      <th>8</th>\n",
       "      <td>9</td>\n",
       "      <td>913.38</td>\n",
       "      <td>1128.704</td>\n",
       "      <td>128.733</td>\n",
       "      <td>6.165</td>\n",
       "      <td>0.478</td>\n",
       "      <td>33.554</td>\n",
       "      <td>143.133</td>\n",
       "      <td>6.169</td>\n",
       "    </tr>\n",
       "  </tbody>\n",
       "</table>\n",
       "</div>"
      ],
      "text/plain": [
       "   step       x         y        s      d    yaw   speed  end_path_s  \\\n",
       "0     1  909.48  1128.670  124.834  6.165  0.000   0.000       0.000   \n",
       "1     2  909.78  1128.673  125.133  6.164  0.479  33.534     139.833   \n",
       "2     3  910.98  1128.683  126.334  6.165  0.572  33.554     140.133   \n",
       "3     4  911.58  1128.688  126.933  6.165  0.478  33.553     141.333   \n",
       "4     5  911.88  1128.691  127.234  6.165  0.479  33.561     141.933   \n",
       "5     6  912.18  1128.693  127.533  6.165  0.479  33.540     142.233   \n",
       "6     7  912.48  1128.696  127.833  6.165  0.572  33.554     142.533   \n",
       "7     8  912.78  1128.699  128.133  6.164  0.478  33.561     142.833   \n",
       "8     9  913.38  1128.704  128.733  6.165  0.478  33.554     143.133   \n",
       "\n",
       "   end_path_d  \n",
       "0       0.000  \n",
       "1       6.166  \n",
       "2       6.166  \n",
       "3       6.166  \n",
       "4       6.167  \n",
       "5       6.167  \n",
       "6       6.168  \n",
       "7       6.168  \n",
       "8       6.169  "
      ]
     },
     "execution_count": 9,
     "metadata": {},
     "output_type": "execute_result"
    }
   ],
   "source": [
    "import numpy as np\n",
    "\n",
    "def get_states(df, steps):\n",
    "    rows = []\n",
    "    for step in steps:\n",
    "        idx = 12*(step - 1)\n",
    "        rows.append([step] + [df.vals[i] for i in range(idx, idx + 8)])\n",
    "    \n",
    "    columns = ['step'] + list(df.tag[0:8].values)\n",
    "    return pd.DataFrame(rows, columns = columns)\n",
    "\n",
    "get_states(df, range(1,10))"
   ]
  },
  {
   "cell_type": "markdown",
   "metadata": {},
   "source": [
    "At each step, we compute the next_x_vals, next_y_vals and check from the next steps to see which points are consumed"
   ]
  },
  {
   "cell_type": "code",
   "execution_count": 10,
   "metadata": {
    "collapsed": true
   },
   "outputs": [],
   "source": [
    "def get_next_step(df, step, nb_row=10, debug=False):\n",
    "    next_x_vals = df.vals[nb_row_per_step * (step - 1) + tag_to_idx['next_x_vals']]\n",
    "    next_y_vals = df.vals[nb_row_per_step * (step - 1) + tag_to_idx['next_y_vals']]\n",
    "    prev_path_x = df.vals[nb_row_per_step * step + tag_to_idx['previous_path_x']]\n",
    "    prev_path_y = df.vals[nb_row_per_step * step + tag_to_idx['previous_path_y']]\n",
    "    \n",
    "    consumed = [True]*(len(next_x_vals) - len(prev_path_x)) + [False] * len(prev_path_x)\n",
    "    nb_row = max(len(next_x_vals) - len(prev_path_x) + 1, nb_row)\n",
    "    steps = [step] * nb_row\n",
    "    if (debug):\n",
    "        print('current pos (x, y) = ({}, {})'.format(df.vals[(df.step==step) & (df.tag=='x')].values[0],\n",
    "                                                     df.vals[(df.step==step) & (df.tag=='y')].values[0]))\n",
    "    return pd.DataFrame({'next_x_vals' : next_x_vals[:nb_row], \n",
    "                         'next_y_vals' : next_y_vals[:nb_row],\n",
    "                         'consumed'    : consumed[:nb_row],\n",
    "                         'step' : steps}, \n",
    "                        columns=['step', 'next_x_vals', 'next_y_vals', 'consumed'])"
   ]
  },
  {
   "cell_type": "code",
   "execution_count": 11,
   "metadata": {},
   "outputs": [
    {
     "data": {
      "text/html": [
       "<div>\n",
       "<style>\n",
       "    .dataframe thead tr:only-child th {\n",
       "        text-align: right;\n",
       "    }\n",
       "\n",
       "    .dataframe thead th {\n",
       "        text-align: left;\n",
       "    }\n",
       "\n",
       "    .dataframe tbody tr th {\n",
       "        vertical-align: top;\n",
       "    }\n",
       "</style>\n",
       "<table border=\"1\" class=\"dataframe\">\n",
       "  <thead>\n",
       "    <tr style=\"text-align: right;\">\n",
       "      <th></th>\n",
       "      <th>step</th>\n",
       "      <th>next_x_vals</th>\n",
       "      <th>next_y_vals</th>\n",
       "      <th>consumed</th>\n",
       "    </tr>\n",
       "  </thead>\n",
       "  <tbody>\n",
       "    <tr>\n",
       "      <th>0</th>\n",
       "      <td>1</td>\n",
       "      <td>909.78</td>\n",
       "      <td>1128.673</td>\n",
       "      <td>True</td>\n",
       "    </tr>\n",
       "    <tr>\n",
       "      <th>1</th>\n",
       "      <td>1</td>\n",
       "      <td>910.08</td>\n",
       "      <td>1128.675</td>\n",
       "      <td>False</td>\n",
       "    </tr>\n",
       "    <tr>\n",
       "      <th>2</th>\n",
       "      <td>1</td>\n",
       "      <td>910.38</td>\n",
       "      <td>1128.678</td>\n",
       "      <td>False</td>\n",
       "    </tr>\n",
       "    <tr>\n",
       "      <th>3</th>\n",
       "      <td>1</td>\n",
       "      <td>910.68</td>\n",
       "      <td>1128.680</td>\n",
       "      <td>False</td>\n",
       "    </tr>\n",
       "    <tr>\n",
       "      <th>4</th>\n",
       "      <td>1</td>\n",
       "      <td>910.98</td>\n",
       "      <td>1128.683</td>\n",
       "      <td>False</td>\n",
       "    </tr>\n",
       "    <tr>\n",
       "      <th>5</th>\n",
       "      <td>1</td>\n",
       "      <td>911.28</td>\n",
       "      <td>1128.686</td>\n",
       "      <td>False</td>\n",
       "    </tr>\n",
       "    <tr>\n",
       "      <th>6</th>\n",
       "      <td>1</td>\n",
       "      <td>911.58</td>\n",
       "      <td>1128.688</td>\n",
       "      <td>False</td>\n",
       "    </tr>\n",
       "    <tr>\n",
       "      <th>7</th>\n",
       "      <td>1</td>\n",
       "      <td>911.88</td>\n",
       "      <td>1128.691</td>\n",
       "      <td>False</td>\n",
       "    </tr>\n",
       "    <tr>\n",
       "      <th>8</th>\n",
       "      <td>1</td>\n",
       "      <td>912.18</td>\n",
       "      <td>1128.693</td>\n",
       "      <td>False</td>\n",
       "    </tr>\n",
       "    <tr>\n",
       "      <th>9</th>\n",
       "      <td>1</td>\n",
       "      <td>912.48</td>\n",
       "      <td>1128.696</td>\n",
       "      <td>False</td>\n",
       "    </tr>\n",
       "  </tbody>\n",
       "</table>\n",
       "</div>"
      ],
      "text/plain": [
       "   step  next_x_vals  next_y_vals  consumed\n",
       "0     1       909.78     1128.673      True\n",
       "1     1       910.08     1128.675     False\n",
       "2     1       910.38     1128.678     False\n",
       "3     1       910.68     1128.680     False\n",
       "4     1       910.98     1128.683     False\n",
       "5     1       911.28     1128.686     False\n",
       "6     1       911.58     1128.688     False\n",
       "7     1       911.88     1128.691     False\n",
       "8     1       912.18     1128.693     False\n",
       "9     1       912.48     1128.696     False"
      ]
     },
     "execution_count": 11,
     "metadata": {},
     "output_type": "execute_result"
    }
   ],
   "source": [
    "get_next_step(df, 1)"
   ]
  },
  {
   "cell_type": "code",
   "execution_count": 12,
   "metadata": {},
   "outputs": [
    {
     "data": {
      "text/html": [
       "<div>\n",
       "<style>\n",
       "    .dataframe thead tr:only-child th {\n",
       "        text-align: right;\n",
       "    }\n",
       "\n",
       "    .dataframe thead th {\n",
       "        text-align: left;\n",
       "    }\n",
       "\n",
       "    .dataframe tbody tr th {\n",
       "        vertical-align: top;\n",
       "    }\n",
       "</style>\n",
       "<table border=\"1\" class=\"dataframe\">\n",
       "  <thead>\n",
       "    <tr style=\"text-align: right;\">\n",
       "      <th></th>\n",
       "      <th>step</th>\n",
       "      <th>next_x_vals</th>\n",
       "      <th>next_y_vals</th>\n",
       "      <th>consumed</th>\n",
       "    </tr>\n",
       "  </thead>\n",
       "  <tbody>\n",
       "    <tr>\n",
       "      <th>0</th>\n",
       "      <td>2</td>\n",
       "      <td>910.08</td>\n",
       "      <td>1128.675</td>\n",
       "      <td>True</td>\n",
       "    </tr>\n",
       "    <tr>\n",
       "      <th>1</th>\n",
       "      <td>2</td>\n",
       "      <td>910.38</td>\n",
       "      <td>1128.678</td>\n",
       "      <td>True</td>\n",
       "    </tr>\n",
       "    <tr>\n",
       "      <th>2</th>\n",
       "      <td>2</td>\n",
       "      <td>910.68</td>\n",
       "      <td>1128.680</td>\n",
       "      <td>True</td>\n",
       "    </tr>\n",
       "    <tr>\n",
       "      <th>3</th>\n",
       "      <td>2</td>\n",
       "      <td>910.98</td>\n",
       "      <td>1128.683</td>\n",
       "      <td>True</td>\n",
       "    </tr>\n",
       "    <tr>\n",
       "      <th>4</th>\n",
       "      <td>2</td>\n",
       "      <td>911.28</td>\n",
       "      <td>1128.686</td>\n",
       "      <td>False</td>\n",
       "    </tr>\n",
       "    <tr>\n",
       "      <th>5</th>\n",
       "      <td>2</td>\n",
       "      <td>911.58</td>\n",
       "      <td>1128.688</td>\n",
       "      <td>False</td>\n",
       "    </tr>\n",
       "    <tr>\n",
       "      <th>6</th>\n",
       "      <td>2</td>\n",
       "      <td>911.88</td>\n",
       "      <td>1128.691</td>\n",
       "      <td>False</td>\n",
       "    </tr>\n",
       "    <tr>\n",
       "      <th>7</th>\n",
       "      <td>2</td>\n",
       "      <td>912.18</td>\n",
       "      <td>1128.693</td>\n",
       "      <td>False</td>\n",
       "    </tr>\n",
       "    <tr>\n",
       "      <th>8</th>\n",
       "      <td>2</td>\n",
       "      <td>912.48</td>\n",
       "      <td>1128.696</td>\n",
       "      <td>False</td>\n",
       "    </tr>\n",
       "    <tr>\n",
       "      <th>9</th>\n",
       "      <td>2</td>\n",
       "      <td>912.78</td>\n",
       "      <td>1128.699</td>\n",
       "      <td>False</td>\n",
       "    </tr>\n",
       "  </tbody>\n",
       "</table>\n",
       "</div>"
      ],
      "text/plain": [
       "   step  next_x_vals  next_y_vals  consumed\n",
       "0     2       910.08     1128.675      True\n",
       "1     2       910.38     1128.678      True\n",
       "2     2       910.68     1128.680      True\n",
       "3     2       910.98     1128.683      True\n",
       "4     2       911.28     1128.686     False\n",
       "5     2       911.58     1128.688     False\n",
       "6     2       911.88     1128.691     False\n",
       "7     2       912.18     1128.693     False\n",
       "8     2       912.48     1128.696     False\n",
       "9     2       912.78     1128.699     False"
      ]
     },
     "execution_count": 12,
     "metadata": {},
     "output_type": "execute_result"
    }
   ],
   "source": [
    "get_next_step(df, 2)"
   ]
  },
  {
   "cell_type": "markdown",
   "metadata": {},
   "source": [
    "We notice that at each step, we might consume one or more points, each point tooks 0.02 second. Let collate all points that our car parsed:"
   ]
  },
  {
   "cell_type": "code",
   "execution_count": 13,
   "metadata": {
    "collapsed": true,
    "scrolled": true
   },
   "outputs": [],
   "source": [
    "def collate_step(df):\n",
    "    last_step = df.step.values[-1]\n",
    "    steps = []\n",
    "    x_vals = []\n",
    "    y_vals = []\n",
    "    \n",
    "    for step in range(1, last_step):\n",
    "        if step == 1:\n",
    "            steps.append(step)\n",
    "            x_vals.append(df.vals[nb_row_per_step * (step - 1) + tag_to_idx['x']])\n",
    "            y_vals.append(df.vals[nb_row_per_step * (step - 1) + tag_to_idx['y']])\n",
    "        else:\n",
    "            next_x_vals = df.vals[nb_row_per_step * (step - 2) + tag_to_idx['next_x_vals']]\n",
    "            next_y_vals = df.vals[nb_row_per_step * (step - 2) + tag_to_idx['next_y_vals']]\n",
    "            \n",
    "            prev_path_x = df.vals[nb_row_per_step * (step - 1) + tag_to_idx['previous_path_x']]\n",
    "            prev_path_y = df.vals[nb_row_per_step * (step - 1) + tag_to_idx['previous_path_y']]\n",
    "            \n",
    "            nb_point = len(next_x_vals) - len(prev_path_x)\n",
    "            \n",
    "            steps += [step] * nb_point\n",
    "            x_vals += list(next_x_vals[:nb_point])\n",
    "            y_vals += list(next_y_vals[:nb_point])\n",
    "    \n",
    "    return pd.DataFrame({'step'   : steps,\n",
    "                         'x_vals' : x_vals,\n",
    "                         'y_vals' : y_vals}, \n",
    "                        columns = ['step', 'x_vals', 'y_vals'])\n",
    "\n",
    "df_steps = collate_step(df)"
   ]
  },
  {
   "cell_type": "markdown",
   "metadata": {},
   "source": [
    "Let's visualize our trajectory"
   ]
  },
  {
   "cell_type": "code",
   "execution_count": 14,
   "metadata": {},
   "outputs": [
    {
     "data": {
      "image/png": "[encoded data removed]",
      "text/plain": [
       "<matplotlib.figure.Figure at 0x10f00cb70>"
      ]
     },
     "metadata": {},
     "output_type": "display_data"
    }
   ],
   "source": [
    "_ = plt.plot(high_way.x, high_way.y, '.', markersize=1)\n",
    "_ = plt.plot(df_steps.x_vals, df_steps.y_vals, 'o', markersize=2)"
   ]
  },
  {
   "cell_type": "markdown",
   "metadata": {},
   "source": [
    "We can compute the speed as following"
   ]
  },
  {
   "cell_type": "code",
   "execution_count": 15,
   "metadata": {},
   "outputs": [
    {
     "data": {
      "text/plain": [
       "[<matplotlib.lines.Line2D at 0x1101dfcc0>]"
      ]
     },
     "execution_count": 15,
     "metadata": {},
     "output_type": "execute_result"
    },
    {
     "data": {
      "image/png": "[encoded data removed]",
      "text/plain": [
       "<matplotlib.figure.Figure at 0x10f0a9d30>"
      ]
     },
     "metadata": {},
     "output_type": "display_data"
    }
   ],
   "source": [
    "def convert_mps_milesph(mps):\n",
    "    return mps*2.236934\n",
    "\n",
    "speeds = np.sqrt(np.diff(df_steps.x_vals.values)**2 + \n",
    "                 np.diff(df_steps.y_vals.values)**2) / 0.02\n",
    "speeds = np.append([0], convert_mps_milesph(speeds))\n",
    "df_steps['speed'] = speeds\n",
    "\n",
    "df_steps_unique = df_steps.drop_duplicates('step',keep='first')\n",
    "plt.plot(df_steps.step, df_steps.speed.values,'-', markersize=1)\n"
   ]
  },
  {
   "cell_type": "code",
   "execution_count": 16,
   "metadata": {},
   "outputs": [
    {
     "data": {
      "text/plain": [
       "array([  70,  155,  257,  531,  532, 1854, 1856, 1857])"
      ]
     },
     "execution_count": 16,
     "metadata": {},
     "output_type": "execute_result"
    }
   ],
   "source": [
    "np.unique(df_steps[df_steps.speed > 50].step.values)"
   ]
  },
  {
   "cell_type": "code",
   "execution_count": 17,
   "metadata": {},
   "outputs": [
    {
     "data": {
      "text/plain": [
       "array([  70,  155,  257,  531,  597, 1854, 1856, 1857])"
      ]
     },
     "execution_count": 17,
     "metadata": {},
     "output_type": "execute_result"
    }
   ],
   "source": [
    "speed.loc[speed.vals > 50].step.values"
   ]
  },
  {
   "cell_type": "code",
   "execution_count": 18,
   "metadata": {},
   "outputs": [
    {
     "name": "stdout",
     "output_type": "stream",
     "text": [
      "[   1  675  973 1158 1412 1793 1794 1795 1914 1915 1916 1917 1919]\n",
      "[   1 1158 1412 1793 1794 1795 1914 1915 1916 1917 1919]\n"
     ]
    }
   ],
   "source": [
    "print(np.unique(df_steps[df_steps.speed < 25].step))\n",
    "print(speed.loc[speed.vals < 25].step.values)"
   ]
  },
  {
   "cell_type": "markdown",
   "metadata": {},
   "source": [
    "We look at an index where speed breaks its limit"
   ]
  },
  {
   "cell_type": "code",
   "execution_count": 19,
   "metadata": {},
   "outputs": [
    {
     "data": {
      "text/plain": [
       "[<matplotlib.lines.Line2D at 0x10f1eb320>]"
      ]
     },
     "execution_count": 19,
     "metadata": {},
     "output_type": "execute_result"
    },
    {
     "data": {
      "image/png": "[encoded data removed]",
      "text/plain": [
       "<matplotlib.figure.Figure at 0x10f1a7f98>"
      ]
     },
     "metadata": {},
     "output_type": "display_data"
    }
   ],
   "source": [
    "idx = df_steps['step'].between(69,71)\n",
    "plt.plot(df_steps[idx].x_vals, df_steps[idx].y_vals, '-o')"
   ]
  },
  {
   "cell_type": "markdown",
   "metadata": {},
   "source": [
    "We can clearly see that the 2nd and 3rd points are too far apart and the change in yaw is too quick.\n",
    "\n",
    "Note that we have use Frenest and set s_inc = 0.3, the speed should NOT break the limit. However note that the convert between Frenet and Catersian is not precise, that's why we see a big speed here.\n",
    "\n",
    "### How to ensure speed limit"
   ]
  }
 ],
 "metadata": {
  "kernelspec": {
   "display_name": "Python [conda env:tf]",
   "language": "python",
   "name": "conda-env-tf-py"
  },
  "language_info": {
   "codemirror_mode": {
    "name": "ipython",
    "version": 3
   },
   "file_extension": ".py",
   "mimetype": "text/x-python",
   "name": "python",
   "nbconvert_exporter": "python",
   "pygments_lexer": "ipython3",
   "version": "3.6.1"
  }
 },
 "nbformat": 4,
 "nbformat_minor": 2
}
